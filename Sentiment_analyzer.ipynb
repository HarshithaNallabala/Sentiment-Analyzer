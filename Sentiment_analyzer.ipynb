{
 "cells": [
  {
   "cell_type": "code",
   "execution_count": 8,
   "id": "8b07dc6a-71d4-4031-867b-4bbe08aa8814",
   "metadata": {},
   "outputs": [
    {
     "name": "stderr",
     "output_type": "stream",
     "text": [
      "[nltk_data] Downloading package vader_lexicon to\n",
      "[nltk_data]     /home/rguktrkvalley/nltk_data...\n",
      "[nltk_data]   Package vader_lexicon is already up-to-date!\n"
     ]
    },
    {
     "name": "stdout",
     "output_type": "stream",
     "text": [
      "Chatbot: Hello! Type 'exit' to end the chat.\n"
     ]
    },
    {
     "name": "stdin",
     "output_type": "stream",
     "text": [
      "You:  I love this chatbot\n"
     ]
    },
    {
     "name": "stdout",
     "output_type": "stream",
     "text": [
      "Chatbot: Your message has a Positive 😊 sentiment.\n"
     ]
    },
    {
     "name": "stdin",
     "output_type": "stream",
     "text": [
      "You:  This is really tiring\n"
     ]
    },
    {
     "name": "stdout",
     "output_type": "stream",
     "text": [
      "Chatbot: Your message has a Neutral 😐 sentiment.\n"
     ]
    },
    {
     "name": "stdin",
     "output_type": "stream",
     "text": [
      "You:  I am angry on you\n"
     ]
    },
    {
     "name": "stdout",
     "output_type": "stream",
     "text": [
      "Chatbot: Your message has a Negative 😞 sentiment.\n"
     ]
    },
    {
     "name": "stdin",
     "output_type": "stream",
     "text": [
      "You:  exit\n"
     ]
    },
    {
     "name": "stdout",
     "output_type": "stream",
     "text": [
      "Chatbot: Goodbye! Have a nice day! 😊\n"
     ]
    }
   ],
   "source": [
    "import nltk\n",
    "from nltk.sentiment import SentimentIntensityAnalyzer\n",
    "\n",
    "# Download the VADER lexicon (used for sentiment analysis)\n",
    "nltk.download('vader_lexicon')\n",
    "\n",
    "# Initialize the Sentiment Analyzer\n",
    "sia = SentimentIntensityAnalyzer()\n",
    "\n",
    "def analyze_sentiment(user_input):\n",
    "    \"\"\"Analyze sentiment using VADER sentiment analyzer.\"\"\"\n",
    "    sentiment_score = sia.polarity_scores(user_input)\n",
    "    \n",
    "    if sentiment_score['compound'] >= 0.05:\n",
    "        return \"Positive 😊\"\n",
    "    elif sentiment_score['compound'] <= -0.05:\n",
    "        return \"Negative 😞\"\n",
    "    else:\n",
    "        return \"Neutral 😐\"\n",
    "\n",
    "def chatbot():\n",
    "    \"\"\"A simple chatbot that responds based on sentiment analysis.\"\"\"\n",
    "    print(\"Chatbot: Hello! Type 'exit' to end the chat.\")\n",
    "    \n",
    "    while True:\n",
    "        user_input = input(\"You: \")\n",
    "        \n",
    "        if user_input.lower() == 'exit':\n",
    "            print(\"Chatbot: Goodbye! Have a nice day! 😊\")\n",
    "            break\n",
    "        \n",
    "        sentiment = analyze_sentiment(user_input)\n",
    "        print(f\"Chatbot: Your message has a {sentiment} sentiment.\")\n",
    "\n",
    "# Run the chatbot\n",
    "if __name__ == \"__main__\":\n",
    "    chatbot()\n"
   ]
  },
  {
   "cell_type": "code",
   "execution_count": null,
   "id": "c0a21f98-3ea6-4cc0-a91e-d36ef5309eb1",
   "metadata": {},
   "outputs": [],
   "source": []
  }
 ],
 "metadata": {
  "kernelspec": {
   "display_name": "Python 3 (ipykernel)",
   "language": "python",
   "name": "python3"
  },
  "language_info": {
   "codemirror_mode": {
    "name": "ipython",
    "version": 3
   },
   "file_extension": ".py",
   "mimetype": "text/x-python",
   "name": "python",
   "nbconvert_exporter": "python",
   "pygments_lexer": "ipython3",
   "version": "3.12.7"
  }
 },
 "nbformat": 4,
 "nbformat_minor": 5
}
